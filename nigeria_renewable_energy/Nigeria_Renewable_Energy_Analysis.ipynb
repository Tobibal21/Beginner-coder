{
 "cells": [
  {
   "cell_type": "markdown",
   "id": "4dfc085d",
   "metadata": {},
   "source": [
    "# 📊 Nigeria Renewable Energy Analysis Project\n",
    "---\n",
    "This notebook loads, analyzes, and visualizes Nigeria's renewable energy data step-by-step with **pandas** and **matplotlib**."
   ]
  },
  {
   "cell_type": "markdown",
   "id": "905cdef1",
   "metadata": {},
   "source": [
    "## 1️⃣ Load Dataset"
   ]
  },
  {
   "cell_type": "code",
   "execution_count": 9,
   "id": "a3d34ef8",
   "metadata": {},
   "outputs": [
    {
     "data": {
      "text/html": [
       "<div>\n",
       "<style scoped>\n",
       "    .dataframe tbody tr th:only-of-type {\n",
       "        vertical-align: middle;\n",
       "    }\n",
       "\n",
       "    .dataframe tbody tr th {\n",
       "        vertical-align: top;\n",
       "    }\n",
       "\n",
       "    .dataframe thead th {\n",
       "        text-align: right;\n",
       "    }\n",
       "</style>\n",
       "<table border=\"1\" class=\"dataframe\">\n",
       "  <thead>\n",
       "    <tr style=\"text-align: right;\">\n",
       "      <th></th>\n",
       "      <th>Year</th>\n",
       "      <th>Solar_Generation_MWh</th>\n",
       "      <th>Wind_Generation_MWh</th>\n",
       "      <th>Hydro_Generation_MWh</th>\n",
       "      <th>Total_Consumption_MWh</th>\n",
       "      <th>Population</th>\n",
       "      <th>Installed_Capacity_MW</th>\n",
       "    </tr>\n",
       "  </thead>\n",
       "  <tbody>\n",
       "    <tr>\n",
       "      <th>0</th>\n",
       "      <td>2018</td>\n",
       "      <td>200</td>\n",
       "      <td>150</td>\n",
       "      <td>500</td>\n",
       "      <td>900</td>\n",
       "      <td>195000000</td>\n",
       "      <td>2000</td>\n",
       "    </tr>\n",
       "    <tr>\n",
       "      <th>1</th>\n",
       "      <td>2019</td>\n",
       "      <td>260</td>\n",
       "      <td>180</td>\n",
       "      <td>520</td>\n",
       "      <td>1000</td>\n",
       "      <td>200000000</td>\n",
       "      <td>2200</td>\n",
       "    </tr>\n",
       "    <tr>\n",
       "      <th>2</th>\n",
       "      <td>2020</td>\n",
       "      <td>340</td>\n",
       "      <td>220</td>\n",
       "      <td>550</td>\n",
       "      <td>1080</td>\n",
       "      <td>206000000</td>\n",
       "      <td>2300</td>\n",
       "    </tr>\n",
       "    <tr>\n",
       "      <th>3</th>\n",
       "      <td>2021</td>\n",
       "      <td>420</td>\n",
       "      <td>270</td>\n",
       "      <td>580</td>\n",
       "      <td>1200</td>\n",
       "      <td>211000000</td>\n",
       "      <td>2500</td>\n",
       "    </tr>\n",
       "    <tr>\n",
       "      <th>4</th>\n",
       "      <td>2022</td>\n",
       "      <td>500</td>\n",
       "      <td>320</td>\n",
       "      <td>600</td>\n",
       "      <td>1350</td>\n",
       "      <td>216000000</td>\n",
       "      <td>2700</td>\n",
       "    </tr>\n",
       "  </tbody>\n",
       "</table>\n",
       "</div>"
      ],
      "text/plain": [
       "   Year  Solar_Generation_MWh  Wind_Generation_MWh  Hydro_Generation_MWh  \\\n",
       "0  2018                   200                  150                   500   \n",
       "1  2019                   260                  180                   520   \n",
       "2  2020                   340                  220                   550   \n",
       "3  2021                   420                  270                   580   \n",
       "4  2022                   500                  320                   600   \n",
       "\n",
       "   Total_Consumption_MWh  Population  Installed_Capacity_MW  \n",
       "0                    900   195000000                   2000  \n",
       "1                   1000   200000000                   2200  \n",
       "2                   1080   206000000                   2300  \n",
       "3                   1200   211000000                   2500  \n",
       "4                   1350   216000000                   2700  "
      ]
     },
     "execution_count": 9,
     "metadata": {},
     "output_type": "execute_result"
    }
   ],
   "source": [
    "import pandas as pd\n",
    "import matplotlib.pyplot as plt\n",
    "\n",
    "df = pd.read_csv('nigeria_renewable_energy.csv')\n",
    "df.head()"
   ]
  },
  {
   "cell_type": "markdown",
   "id": "ffbd95bd",
   "metadata": {},
   "source": [
    "## 2️⃣ Inspect Dataset"
   ]
  },
  {
   "cell_type": "code",
   "execution_count": 10,
   "id": "b9831fc9",
   "metadata": {},
   "outputs": [
    {
     "name": "stdout",
     "output_type": "stream",
     "text": [
      "🔍 FIRST 5 ROWS:\n",
      "   Year  Solar_Generation_MWh  Wind_Generation_MWh  Hydro_Generation_MWh  \\\n",
      "0  2018                   200                  150                   500   \n",
      "1  2019                   260                  180                   520   \n",
      "2  2020                   340                  220                   550   \n",
      "3  2021                   420                  270                   580   \n",
      "4  2022                   500                  320                   600   \n",
      "\n",
      "   Total_Consumption_MWh  Population  Installed_Capacity_MW  \n",
      "0                    900   195000000                   2000  \n",
      "1                   1000   200000000                   2200  \n",
      "2                   1080   206000000                   2300  \n",
      "3                   1200   211000000                   2500  \n",
      "4                   1350   216000000                   2700  \n",
      "\n",
      "ℹ️ DATA INFO:\n",
      "<class 'pandas.core.frame.DataFrame'>\n",
      "RangeIndex: 5 entries, 0 to 4\n",
      "Data columns (total 7 columns):\n",
      " #   Column                 Non-Null Count  Dtype\n",
      "---  ------                 --------------  -----\n",
      " 0   Year                   5 non-null      int64\n",
      " 1   Solar_Generation_MWh   5 non-null      int64\n",
      " 2   Wind_Generation_MWh    5 non-null      int64\n",
      " 3   Hydro_Generation_MWh   5 non-null      int64\n",
      " 4   Total_Consumption_MWh  5 non-null      int64\n",
      " 5   Population             5 non-null      int64\n",
      " 6   Installed_Capacity_MW  5 non-null      int64\n",
      "dtypes: int64(7)\n",
      "memory usage: 412.0 bytes\n",
      "None\n",
      "\n",
      "📊 STATISTICS SUMMARY:\n",
      "              Year  Solar_Generation_MWh  Wind_Generation_MWh  \\\n",
      "count     5.000000              5.000000             5.000000   \n",
      "mean   2020.000000            344.000000           228.000000   \n",
      "std       1.581139            120.332872            68.337398   \n",
      "min    2018.000000            200.000000           150.000000   \n",
      "25%    2019.000000            260.000000           180.000000   \n",
      "50%    2020.000000            340.000000           220.000000   \n",
      "75%    2021.000000            420.000000           270.000000   \n",
      "max    2022.000000            500.000000           320.000000   \n",
      "\n",
      "       Hydro_Generation_MWh  Total_Consumption_MWh    Population  \\\n",
      "count              5.000000               5.000000  5.000000e+00   \n",
      "mean             550.000000            1106.000000  2.056000e+08   \n",
      "std               41.231056             175.157072  8.384510e+06   \n",
      "min              500.000000             900.000000  1.950000e+08   \n",
      "25%              520.000000            1000.000000  2.000000e+08   \n",
      "50%              550.000000            1080.000000  2.060000e+08   \n",
      "75%              580.000000            1200.000000  2.110000e+08   \n",
      "max              600.000000            1350.000000  2.160000e+08   \n",
      "\n",
      "       Installed_Capacity_MW  \n",
      "count               5.000000  \n",
      "mean             2340.000000  \n",
      "std               270.185122  \n",
      "min              2000.000000  \n",
      "25%              2200.000000  \n",
      "50%              2300.000000  \n",
      "75%              2500.000000  \n",
      "max              2700.000000  \n"
     ]
    }
   ],
   "source": [
    "print('🔍 FIRST 5 ROWS:')\n",
    "print(df.head())\n",
    "\n",
    "print('\\nℹ️ DATA INFO:')\n",
    "print(df.info())\n",
    "\n",
    "print('\\n📊 STATISTICS SUMMARY:')\n",
    "print(df.describe())"
   ]
  },
  {
   "cell_type": "markdown",
   "id": "a978c493",
   "metadata": {},
   "source": [
    "## 3️⃣ Create New Columns"
   ]
  },
  {
   "cell_type": "code",
   "execution_count": 11,
   "id": "ab230cea",
   "metadata": {},
   "outputs": [
    {
     "data": {
      "text/html": [
       "<div>\n",
       "<style scoped>\n",
       "    .dataframe tbody tr th:only-of-type {\n",
       "        vertical-align: middle;\n",
       "    }\n",
       "\n",
       "    .dataframe tbody tr th {\n",
       "        vertical-align: top;\n",
       "    }\n",
       "\n",
       "    .dataframe thead th {\n",
       "        text-align: right;\n",
       "    }\n",
       "</style>\n",
       "<table border=\"1\" class=\"dataframe\">\n",
       "  <thead>\n",
       "    <tr style=\"text-align: right;\">\n",
       "      <th></th>\n",
       "      <th>Year</th>\n",
       "      <th>Total_Renewable_MWh</th>\n",
       "      <th>PerCapita_Consumption_kWh</th>\n",
       "    </tr>\n",
       "  </thead>\n",
       "  <tbody>\n",
       "    <tr>\n",
       "      <th>0</th>\n",
       "      <td>2018</td>\n",
       "      <td>850</td>\n",
       "      <td>0.004615</td>\n",
       "    </tr>\n",
       "    <tr>\n",
       "      <th>1</th>\n",
       "      <td>2019</td>\n",
       "      <td>960</td>\n",
       "      <td>0.005000</td>\n",
       "    </tr>\n",
       "    <tr>\n",
       "      <th>2</th>\n",
       "      <td>2020</td>\n",
       "      <td>1110</td>\n",
       "      <td>0.005243</td>\n",
       "    </tr>\n",
       "    <tr>\n",
       "      <th>3</th>\n",
       "      <td>2021</td>\n",
       "      <td>1270</td>\n",
       "      <td>0.005687</td>\n",
       "    </tr>\n",
       "    <tr>\n",
       "      <th>4</th>\n",
       "      <td>2022</td>\n",
       "      <td>1420</td>\n",
       "      <td>0.006250</td>\n",
       "    </tr>\n",
       "  </tbody>\n",
       "</table>\n",
       "</div>"
      ],
      "text/plain": [
       "   Year  Total_Renewable_MWh  PerCapita_Consumption_kWh\n",
       "0  2018                  850                   0.004615\n",
       "1  2019                  960                   0.005000\n",
       "2  2020                 1110                   0.005243\n",
       "3  2021                 1270                   0.005687\n",
       "4  2022                 1420                   0.006250"
      ]
     },
     "execution_count": 11,
     "metadata": {},
     "output_type": "execute_result"
    }
   ],
   "source": [
    "df['Total_Renewable_MWh'] = df['Solar_Generation_MWh'] + df['Wind_Generation_MWh'] + df['Hydro_Generation_MWh']\n",
    "df['PerCapita_Consumption_kWh'] = df['Total_Consumption_MWh'] * 1000 / df['Population']\n",
    "df[['Year', 'Total_Renewable_MWh', 'PerCapita_Consumption_kWh']]"
   ]
  },
  {
   "cell_type": "markdown",
   "id": "38137210",
   "metadata": {},
   "source": [
    "## 4️⃣ Yearly Growth Calculations"
   ]
  },
  {
   "cell_type": "code",
   "execution_count": 12,
   "id": "0b424e87",
   "metadata": {},
   "outputs": [
    {
     "data": {
      "text/html": [
       "<div>\n",
       "<style scoped>\n",
       "    .dataframe tbody tr th:only-of-type {\n",
       "        vertical-align: middle;\n",
       "    }\n",
       "\n",
       "    .dataframe tbody tr th {\n",
       "        vertical-align: top;\n",
       "    }\n",
       "\n",
       "    .dataframe thead th {\n",
       "        text-align: right;\n",
       "    }\n",
       "</style>\n",
       "<table border=\"1\" class=\"dataframe\">\n",
       "  <thead>\n",
       "    <tr style=\"text-align: right;\">\n",
       "      <th></th>\n",
       "      <th>Year</th>\n",
       "      <th>Solar_Growth_%</th>\n",
       "      <th>Wind_Growth_%</th>\n",
       "      <th>Hydro_Growth_%</th>\n",
       "    </tr>\n",
       "  </thead>\n",
       "  <tbody>\n",
       "    <tr>\n",
       "      <th>0</th>\n",
       "      <td>2018</td>\n",
       "      <td>NaN</td>\n",
       "      <td>NaN</td>\n",
       "      <td>NaN</td>\n",
       "    </tr>\n",
       "    <tr>\n",
       "      <th>1</th>\n",
       "      <td>2019</td>\n",
       "      <td>30.000000</td>\n",
       "      <td>20.000000</td>\n",
       "      <td>4.000000</td>\n",
       "    </tr>\n",
       "    <tr>\n",
       "      <th>2</th>\n",
       "      <td>2020</td>\n",
       "      <td>30.769231</td>\n",
       "      <td>22.222222</td>\n",
       "      <td>5.769231</td>\n",
       "    </tr>\n",
       "    <tr>\n",
       "      <th>3</th>\n",
       "      <td>2021</td>\n",
       "      <td>23.529412</td>\n",
       "      <td>22.727273</td>\n",
       "      <td>5.454545</td>\n",
       "    </tr>\n",
       "    <tr>\n",
       "      <th>4</th>\n",
       "      <td>2022</td>\n",
       "      <td>19.047619</td>\n",
       "      <td>18.518519</td>\n",
       "      <td>3.448276</td>\n",
       "    </tr>\n",
       "  </tbody>\n",
       "</table>\n",
       "</div>"
      ],
      "text/plain": [
       "   Year  Solar_Growth_%  Wind_Growth_%  Hydro_Growth_%\n",
       "0  2018             NaN            NaN             NaN\n",
       "1  2019       30.000000      20.000000        4.000000\n",
       "2  2020       30.769231      22.222222        5.769231\n",
       "3  2021       23.529412      22.727273        5.454545\n",
       "4  2022       19.047619      18.518519        3.448276"
      ]
     },
     "execution_count": 12,
     "metadata": {},
     "output_type": "execute_result"
    }
   ],
   "source": [
    "df['Solar_Growth_%'] = df['Solar_Generation_MWh'].pct_change() * 100\n",
    "df['Wind_Growth_%'] = df['Wind_Generation_MWh'].pct_change() * 100\n",
    "df['Hydro_Growth_%'] = df['Hydro_Generation_MWh'].pct_change() * 100\n",
    "\n",
    "df[['Year','Solar_Growth_%','Wind_Growth_%','Hydro_Growth_%']]"
   ]
  },
  {
   "cell_type": "markdown",
   "id": "023ed5ed",
   "metadata": {},
   "source": [
    "## 5️⃣ Filtering & Sorting"
   ]
  },
  {
   "cell_type": "code",
   "execution_count": 13,
   "id": "08a11f2d",
   "metadata": {},
   "outputs": [
    {
     "name": "stdout",
     "output_type": "stream",
     "text": [
      "🌞 Highest Solar Generation Year: 2022\n",
      "\n",
      "⚡ Years where renewables > 50% of consumption:\n",
      "   Year  Renewable_Share_%\n",
      "0  2018          94.444444\n",
      "1  2019          96.000000\n",
      "2  2020         102.777778\n",
      "3  2021         105.833333\n",
      "4  2022         105.185185\n"
     ]
    }
   ],
   "source": [
    "highest_solar_year = df.loc[df['Solar_Generation_MWh'].idxmax(), 'Year']\n",
    "print(f'🌞 Highest Solar Generation Year: {highest_solar_year}')\n",
    "\n",
    "df['Renewable_Share_%'] = df['Total_Renewable_MWh'] / df['Total_Consumption_MWh'] * 100\n",
    "above_50 = df[df['Renewable_Share_%'] > 50]\n",
    "print('\\n⚡ Years where renewables > 50% of consumption:')\n",
    "print(above_50[['Year', 'Renewable_Share_%']])"
   ]
  },
  {
   "cell_type": "markdown",
   "id": "78f9c3bd",
   "metadata": {},
   "source": [
    "## 6️⃣ Visualization"
   ]
  },
  {
   "cell_type": "code",
   "execution_count": 7,
   "id": "eff52b83",
   "metadata": {},
   "outputs": [
    {
     "data": {
      "image/png": "[encoded data removed]",
      "text/plain": [
       "<Figure size 800x500 with 1 Axes>"
      ]
     },
     "metadata": {},
     "output_type": "display_data"
    },
    {
     "data": {
      "image/png": "[encoded data removed]",
      "text/plain": [
       "<Figure size 800x500 with 1 Axes>"
      ]
     },
     "metadata": {},
     "output_type": "display_data"
    }
   ],
   "source": [
    "plt.figure(figsize=(8, 5))\n",
    "plt.plot(df['Year'], df['Total_Renewable_MWh'], marker='x', label='Total Renewable Generation')\n",
    "plt.xlabel('Year')\n",
    "plt.ylabel('MWh')\n",
    "plt.title('Nigeria Renewable Energy Generation Over Time')\n",
    "plt.grid()\n",
    "plt.legend()\n",
    "plt.show()\n",
    "\n",
    "plt.figure(figsize=(8, 5))\n",
    "plt.plot(df[\"Year\"], df[\"PerCapita_Consumption_kWh\"], marker=\"o\", color=\"orange\", label=\"Per Capita Consumption (kWh)\")\n",
    "plt.xlabel(\"Year\")\n",
    "plt.ylabel(\"kWh per person\")\n",
    "plt.title(\"Per Capita Electricity Consumption Over Time\")\n",
    "plt.grid()\n",
    "plt.legend()\n",
    "plt.show()\n"
   ]
  },
  {
   "cell_type": "markdown",
   "id": "df1cb24b",
   "metadata": {},
   "source": [
    "## 7️⃣ Insights"
   ]
  },
  {
   "cell_type": "code",
   "execution_count": 8,
   "id": "49732a17",
   "metadata": {},
   "outputs": [
    {
     "name": "stdout",
     "output_type": "stream",
     "text": [
      "\n",
      "💡 INSIGHTS:\n",
      "- Solar had the highest average growth rate over the years.\n",
      "- Installed capacity is currently keeping up with consumption.\n"
     ]
    }
   ],
   "source": [
    "print(\"\\n💡 INSIGHTS:\")\n",
    "fastest_growing = [\"Solar\", \"Wind\", \"Hydro\"]\n",
    "growth_rates = [df[\"Solar_Growth_%\"].mean(), df[\"Wind_Growth_%\"].mean(), df[\"Hydro_Growth_%\"].mean()]\n",
    "max_growth = fastest_growing[growth_rates.index(max(growth_rates))]\n",
    "print(f\"- {max_growth} had the highest average growth rate over the years.\")\n",
    "if df[\"Installed_Capacity_MW\"].iloc[-1] < df[\"Total_Consumption_MWh\"].iloc[-1]:\n",
    "    print(\"- Installed capacity might need to be expanded to meet future demand.\")\n",
    "else:\n",
    "    print(\"- Installed capacity is currently keeping up with consumption.\")"
   ]
  }
 ],
 "metadata": {
  "kernelspec": {
   "display_name": "base",
   "language": "python",
   "name": "python3"
  },
  "language_info": {
   "codemirror_mode": {
    "name": "ipython",
    "version": 3
   },
   "file_extension": ".py",
   "mimetype": "text/x-python",
   "name": "python",
   "nbconvert_exporter": "python",
   "pygments_lexer": "ipython3",
   "version": "3.12.7"
  }
 },
 "nbformat": 4,
 "nbformat_minor": 5
}
