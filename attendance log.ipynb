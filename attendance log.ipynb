{
 "cells": [
  {
   "cell_type": "markdown",
   "id": "cabbcee8",
   "metadata": {},
   "source": [
    "🗒️ Attendance Logger — Daily Sign-In Tracker"
   ]
  },
  {
   "cell_type": "markdown",
   "id": "a3b8cdea",
   "metadata": {},
   "source": [
    "This script is a simple daily attendance logger that allows a student to sign into a class and automatically appends the current timestamp to a text file (daily log.txt).\n",
    "\n",
    "It includes:\n",
    "\n",
    "A greeting() function that writes a personalized sign-in message.\n",
    "\n",
    "Automatic recording of the current date and time using Python's datetime module.\n",
    "\n",
    "File handling operations to read and write logs.\n",
    "\n",
    "💡 Ideal for use cases like small classroom attendance tracking, habit logs, or personal journaling apps."
   ]
  },
  {
   "cell_type": "code",
   "execution_count": 3,
   "id": "d6b3481c",
   "metadata": {},
   "outputs": [
    {
     "name": "stdout",
     "output_type": "stream",
     "text": [
      "Good morning Tobi you are have signed in for GST class\n",
      "Signed-in at: 2025-06-06 14:05:42\n",
      "\n",
      "Good morning Tobi you are have signed in for GST class\n",
      "Signed-in at: 2025-06-06 14:05:42\n",
      "Good morning Tobi you are have signed in for GST class\n",
      "Signed-in at: 2025-06-06 14:08:49\n",
      "\n"
     ]
    }
   ],
   "source": [
    "#greeting\n",
    "def greeting(name,course):\n",
    "    with open('daily log.txt','a') as file:\n",
    "        file.write(f'Good morning {name} you are have signed in for {course} class')\n",
    "\n",
    "\n",
    "with open('daily log.txt','r') as file:\n",
    "    print(file.read())\n",
    "\n",
    "greeting('Tobi','GST')\n",
    "\n",
    "\n",
    "\n",
    "# daily log tracker\n",
    "from datetime import datetime\n",
    "now = datetime.now()\n",
    "timestamp = now.strftime('%Y-%m-%d %H:%M:%S')\n",
    "\n",
    "with open('daily log.txt','a') as file:\n",
    "    file.write(f\"\\nSigned-in at: {timestamp}\\n\")\n",
    "\n",
    "with open('daily log.txt','r') as file:\n",
    "     print(file.read())\n",
    "\n"
   ]
  }
 ],
 "metadata": {
  "kernelspec": {
   "display_name": "base",
   "language": "python",
   "name": "python3"
  },
  "language_info": {
   "codemirror_mode": {
    "name": "ipython",
    "version": 3
   },
   "file_extension": ".py",
   "mimetype": "text/x-python",
   "name": "python",
   "nbconvert_exporter": "python",
   "pygments_lexer": "ipython3",
   "version": "3.12.7"
  }
 },
 "nbformat": 4,
 "nbformat_minor": 5
}
