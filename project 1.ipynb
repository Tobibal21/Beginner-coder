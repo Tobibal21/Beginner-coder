{
 "cells": [
  {
   "cell_type": "code",
   "execution_count": 2,
   "id": "810353a8",
   "metadata": {},
   "outputs": [
    {
     "name": "stdout",
     "output_type": "stream",
     "text": [
      "\n",
      "Good morning Tobi you are have signed in for GST class\n",
      "Signed-in at: 2025-06-06 14:05:42\n",
      "\n"
     ]
    }
   ],
   "source": [
    "#greeting\n",
    "def greeting(name,course):\n",
    "    with open('daily log.txt','a') as file:\n",
    "        file.write(f'Good morning {name} you are have signed in for {course} class')\n",
    "\n",
    "\n",
    "with open('daily log.txt','r') as file:\n",
    "    print(file.read())\n",
    "\n",
    "greeting('Tobi','GST')\n",
    "\n",
    "\n",
    "\n",
    "# daily log tracker\n",
    "from datetime import datetime\n",
    "now = datetime.now()\n",
    "timestamp = now.strftime('%Y-%m-%d %H:%M:%S')\n",
    "\n",
    "with open('daily log.txt','a') as file:\n",
    "    file.write(f\"\\nSigned-in at: {timestamp}\\n\")\n",
    "\n",
    "with open('daily log.txt','r') as file:\n",
    "     print(file.read())\n",
    "\n"
   ]
  }
 ],
 "metadata": {
  "kernelspec": {
   "display_name": "base",
   "language": "python",
   "name": "python3"
  },
  "language_info": {
   "codemirror_mode": {
    "name": "ipython",
    "version": 3
   },
   "file_extension": ".py",
   "mimetype": "text/x-python",
   "name": "python",
   "nbconvert_exporter": "python",
   "pygments_lexer": "ipython3",
   "version": "3.12.7"
  }
 },
 "nbformat": 4,
 "nbformat_minor": 5
}
